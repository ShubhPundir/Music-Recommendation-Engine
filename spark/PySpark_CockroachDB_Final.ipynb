{
 "cells": [
  {
   "cell_type": "markdown",
   "id": "d653b676",
   "metadata": {},
   "source": [
    "# PySpark + CockroachDB Analytical Notebook"
   ]
  },
  {
   "cell_type": "code",
   "execution_count": null,
   "id": "fd284d24",
   "metadata": {},
   "outputs": [],
   "source": [
    "import os\n",
    "from dotenv import load_dotenv\n",
    "from pyspark.sql import SparkSession\n",
    "from pyspark.sql.functions import col, avg, desc, countDistinct, max as spark_max, min as spark_min, explode\n",
    "\n",
    "# Load environment variables from .env\n",
    "load_dotenv()\n",
    "\n",
    "print(\" COCKROACH_USER:\", os.getenv(\"COCKROACH_USER\"))\n",
    "print(\" COCKROACH_PASS:\", os.getenv(\"COCKROACH_PASS\"))\n",
    "print(\" COCKROACH_HOST:\", os.getenv(\"COCKROACH_HOST\"))\n",
    "print(\" COCKROACH_PORT:\", os.getenv(\"COCKROACH_PORT\"))\n",
    "print(\" MONGO URI:\", os.getenv(\"MONGO_ATLAS_URI\"))"
   ]
  },
  {
   "cell_type": "markdown",
   "id": "841b54eb",
   "metadata": {},
   "source": [
    "## 1. Import Required Libraries\n",
    "We begin by importing PySpark libraries and loading the `.env` variables containing CockroachDB and MongoDB credentials."
   ]
  },
  {
   "cell_type": "code",
   "execution_count": null,
   "id": "fbc8d44f",
   "metadata": {},
   "outputs": [],
   "source": [
    "spark = SparkSession.builder \\\n",
    "    .appName(\"CockroachDB_PySpark_Project\") \\\n",
    "    .config(\"spark.jars.packages\", \"org.postgresql:postgresql:42.2.18\") \\\n",
    "    .getOrCreate()"
   ]
  },
  {
   "cell_type": "markdown",
   "id": "4bcfab01",
   "metadata": {},
   "source": [
    "## 2. Initialize Spark Session\n",
    "We initialize the Spark session and configure the required JDBC driver for CockroachDB."
   ]
  },
  {
   "cell_type": "code",
   "execution_count": null,
   "id": "d153a1b1",
   "metadata": {},
   "outputs": [],
   "source": [
    "COCKROACH_USER = os.getenv(\"COCKROACH_USER\")\n",
    "COCKROACH_PASS = os.getenv(\"COCKROACH_PASS\")\n",
    "COCKROACH_HOST = os.getenv(\"COCKROACH_HOST\")\n",
    "COCKROACH_PORT = os.getenv(\"COCKROACH_PORT\")\n",
    "DATABASE_NAME = \"defaultdb\"\n",
    "\n",
    "jdbc_url = f\"jdbc:postgresql://{COCKROACH_HOST}:{COCKROACH_PORT}/{DATABASE_NAME}?sslmode=require\"\n",
    "\n",
    "connection_properties = {\n",
    "    \"user\": COCKROACH_USER,\n",
    "    \"password\": COCKROACH_PASS,\n",
    "    \"driver\": \"org.postgresql.Driver\"\n",
    "}"
   ]
  },
  {
   "cell_type": "markdown",
   "id": "001264c9",
   "metadata": {},
   "source": [
    "## 3. CockroachDB Connection Properties\n",
    "We read the CockroachDB credentials from environment variables and build the JDBC connection string."
   ]
  },
  {
   "cell_type": "code",
   "execution_count": null,
   "id": "93948c56",
   "metadata": {},
   "outputs": [],
   "source": [
    "def load_table(table_name):\n",
    "    return spark.read.jdbc(\n",
    "        url=jdbc_url,\n",
    "        table=table_name,\n",
    "        properties=connection_properties\n",
    "    )\n",
    "\n",
    "track_link_df = load_table(\"track_link\")\n",
    "audio_features_df = load_table(\"audio_features\")\n",
    "track_reference_df = load_table(\"track_reference\")\n",
    "lyrics_df = load_table(\"lyrics\")"
   ]
  },
  {
   "cell_type": "markdown",
   "id": "68fbd0b6",
   "metadata": {},
   "source": [
    "## 4. Load Tables into DataFrames\n",
    "We load all four tables into Spark DataFrames for processing: `track_link`, `audio_features`, `track_reference`, and `lyrics`."
   ]
  },
  {
   "cell_type": "code",
   "execution_count": null,
   "id": "5ac66dc0",
   "metadata": {},
   "outputs": [],
   "source": [
    "track_link_df.show(5)\n",
    "audio_features_df.show(5)\n",
    "track_reference_df.show(5)\n",
    "lyrics_df.show(5)"
   ]
  },
  {
   "cell_type": "markdown",
   "id": "cd7646b7",
   "metadata": {},
   "source": [
    "## 5. Show Sample Records\n",
    "Let's display a few records from each table to get an understanding of their structure."
   ]
  },
  {
   "cell_type": "code",
   "execution_count": null,
   "id": "cd96abf4",
   "metadata": {},
   "outputs": [],
   "source": [
    "track_link_df.join(track_reference_df, on=\"musicbrainz_id\").select(\"track_title\", \"artist\", \"album\").show(5)"
   ]
  },
  {
   "cell_type": "markdown",
   "id": "7514c4d5",
   "metadata": {},
   "source": [
    "## Join track metadata with artist and album\n",
    "Join `track_link` with `track_reference` to retrieve track title, artist, and album info."
   ]
  },
  {
   "cell_type": "code",
   "execution_count": null,
   "id": "7c314489",
   "metadata": {},
   "outputs": [],
   "source": [
    "audio_features_df.orderBy(col(\"energy\").desc()).select(\"musicbrainz_id\", \"energy\").show(5)"
   ]
  },
  {
   "cell_type": "markdown",
   "id": "cca319c3",
   "metadata": {},
   "source": [
    "## Top 5 most energetic tracks\n",
    "Retrieve tracks ordered by energy score in descending order."
   ]
  },
  {
   "cell_type": "code",
   "execution_count": null,
   "id": "afd04aa1",
   "metadata": {},
   "outputs": [],
   "source": [
    "track_reference_df.join(audio_features_df, on=\"musicbrainz_id\").join(lyrics_df, on=\"musicbrainz_id\").select(\"title\", \"artist\", \"energy\", \"valence\").show(5)"
   ]
  },
  {
   "cell_type": "markdown",
   "id": "e1e44251",
   "metadata": {},
   "source": [
    "## Combine track metadata with energy and valence scores\n",
    "Join track reference, audio features, and lyrics to get combined metadata with energy and valence."
   ]
  },
  {
   "cell_type": "code",
   "execution_count": null,
   "id": "d630c446",
   "metadata": {},
   "outputs": [],
   "source": [
    "track_reference_df.join(audio_features_df, on=\"musicbrainz_id\").groupBy(\"country\").agg(avg(\"tempo\").alias(\"avg_tempo\")).orderBy(desc(\"avg_tempo\")).show(5)"
   ]
  },
  {
   "cell_type": "markdown",
   "id": "262d5639",
   "metadata": {},
   "source": [
    "## Average tempo grouped by country\n",
    "Compute the average tempo of tracks for each country."
   ]
  },
  {
   "cell_type": "code",
   "execution_count": null,
   "id": "c471cda9",
   "metadata": {},
   "outputs": [],
   "source": [
    "audio_features_df.filter((col(\"valence\") > 0.7) & (col(\"danceability\") > 0.7)).select(\"musicbrainz_id\").show(5)"
   ]
  },
  {
   "cell_type": "markdown",
   "id": "dd4d5633",
   "metadata": {},
   "source": [
    "## Happy and danceable tracks\n",
    "Filter tracks with valence > 0.7 and danceability > 0.7."
   ]
  },
  {
   "cell_type": "code",
   "execution_count": null,
   "id": "276c6652",
   "metadata": {},
   "outputs": [],
   "source": [
    "track_reference_df.groupBy(\"artist\").count().orderBy(desc(\"count\")).show(5)"
   ]
  },
  {
   "cell_type": "markdown",
   "id": "9a55f481",
   "metadata": {},
   "source": [
    "## Count of tracks per artist\n",
    "Get the count of tracks available for each artist, ordered by count."
   ]
  },
  {
   "cell_type": "code",
   "execution_count": null,
   "id": "f171699b",
   "metadata": {},
   "outputs": [],
   "source": [
    "lyrics_df.filter(col(\"genius_lyrics\").isNotNull()).select(\"musicbrainz_id\", \"genius_url\").show(5)"
   ]
  },
  {
   "cell_type": "markdown",
   "id": "e0410a9c",
   "metadata": {},
   "source": [
    "## Tracks with available Genius lyrics\n",
    "Filter tracks that have available lyrics from Genius platform."
   ]
  },
  {
   "cell_type": "code",
   "execution_count": null,
   "id": "919fedda",
   "metadata": {},
   "outputs": [],
   "source": [
    "track_reference_df.groupBy(\"country\").agg(countDistinct(\"artist\").alias(\"unique_artists\")).orderBy(desc(\"unique_artists\")).show(5)"
   ]
  },
  {
   "cell_type": "markdown",
   "id": "6e1955e9",
   "metadata": {},
   "source": [
    "## Unique artist count per country\n",
    "Count the distinct artists available per country."
   ]
  },
  {
   "cell_type": "code",
   "execution_count": null,
   "id": "9cd3e678",
   "metadata": {},
   "outputs": [],
   "source": [
    "track_reference_df.groupBy(\"release_date\").count().orderBy(desc(\"count\")).show(5)"
   ]
  },
  {
   "cell_type": "markdown",
   "id": "8f3722d0",
   "metadata": {},
   "source": [
    "## Count of tracks per release date\n",
    "Group tracks by their release date and count them."
   ]
  },
  {
   "cell_type": "code",
   "execution_count": null,
   "id": "4c4160d0",
   "metadata": {},
   "outputs": [],
   "source": [
    "audio_features_df.orderBy(desc(\"danceability\")).select(\"musicbrainz_id\", \"danceability\").show(5)"
   ]
  },
  {
   "cell_type": "markdown",
   "id": "0d1f1294",
   "metadata": {},
   "source": [
    "## Top 5 most danceable tracks\n",
    "Retrieve the most danceable tracks ordered by danceability."
   ]
  },
  {
   "cell_type": "code",
   "execution_count": null,
   "id": "18a317cd",
   "metadata": {},
   "outputs": [],
   "source": [
    "audio_features_df.groupBy(\"sample_rate\").count().orderBy(desc(\"count\")).show(5)"
   ]
  },
  {
   "cell_type": "markdown",
   "id": "54725848",
   "metadata": {},
   "source": [
    "## Count of tracks grouped by sample rate\n",
    "Group tracks by their sample rate and count occurrences."
   ]
  },
  {
   "cell_type": "code",
   "execution_count": null,
   "id": "8a029cf4",
   "metadata": {},
   "outputs": [],
   "source": [
    "track_reference_df.filter(col(\"country\") == \"US\").select(\"title\", \"artist\").show(5)"
   ]
  },
  {
   "cell_type": "markdown",
   "id": "e2c18477",
   "metadata": {},
   "source": [
    "## Tracks released in the US\n",
    "Filter tracks that are marked with country as US."
   ]
  },
  {
   "cell_type": "code",
   "execution_count": null,
   "id": "46cc9ab5",
   "metadata": {},
   "outputs": [],
   "source": [
    "audio_features_df.groupBy(\"musicbrainz_id\").agg(avg(\"mfcc_1\").alias(\"avg_mfcc_1\")).orderBy(desc(\"avg_mfcc_1\")).show(5)"
   ]
  },
  {
   "cell_type": "markdown",
   "id": "4e7e31e4",
   "metadata": {},
   "source": [
    "## Average MFCC 1 feature per track\n",
    "Compute the average MFCC 1 value grouped by track."
   ]
  },
  {
   "cell_type": "code",
   "execution_count": null,
   "id": "ec3f21e7",
   "metadata": {},
   "outputs": [],
   "source": [
    "audio_features_df.groupBy(\"musicbrainz_id\").agg(spark_max(\"tempo\").alias(\"max_tempo\"), spark_min(\"tempo\").alias(\"min_tempo\")).show(5)"
   ]
  },
  {
   "cell_type": "markdown",
   "id": "5a914063",
   "metadata": {},
   "source": [
    "## Max and min tempo per track\n",
    "Get max and min tempo for each track."
   ]
  },
  {
   "cell_type": "code",
   "execution_count": null,
   "id": "167de210",
   "metadata": {},
   "outputs": [],
   "source": [
    "track_reference_df.filter(col(\"release_date\") > \"2015-01-01\").select(\"title\", \"artist\").show(5)"
   ]
  },
  {
   "cell_type": "markdown",
   "id": "52ded42a",
   "metadata": {},
   "source": [
    "## Tracks released after 2015\n",
    "Filter tracks released after Jan 1, 2015."
   ]
  },
  {
   "cell_type": "code",
   "execution_count": null,
   "id": "d8946280",
   "metadata": {},
   "outputs": [],
   "source": [
    "track_reference_df.filter(col(\"length\") > 300).select(\"title\", \"length\").show(5)"
   ]
  },
  {
   "cell_type": "markdown",
   "id": "ab3d96d2",
   "metadata": {},
   "source": [
    "## Long tracks with duration > 300 seconds\n",
    "Filter tracks longer than 300 seconds."
   ]
  },
  {
   "cell_type": "code",
   "execution_count": null,
   "id": "35121d8d",
   "metadata": {},
   "outputs": [],
   "source": [
    "audio_features_df.filter(col(\"speechiness\") > 0.5).select(\"musicbrainz_id\", \"speechiness\").show(5)"
   ]
  },
  {
   "cell_type": "markdown",
   "id": "43cce487",
   "metadata": {},
   "source": [
    "## Tracks with high speechiness (> 0.5)\n",
    "Filter tracks where speechiness is greater than 0.5."
   ]
  },
  {
   "cell_type": "code",
   "execution_count": null,
   "id": "f7c056e1",
   "metadata": {},
   "outputs": [],
   "source": [
    "audio_features_df.filter(col(\"instrumentalness\") > 0.8).select(\"musicbrainz_id\", \"instrumentalness\").show(5)"
   ]
  },
  {
   "cell_type": "markdown",
   "id": "96048fd7",
   "metadata": {},
   "source": [
    "## Instrumental tracks (instrumentalness > 0.8)\n",
    "Filter tracks where instrumentalness is greater than 0.8."
   ]
  },
  {
   "cell_type": "code",
   "execution_count": null,
   "id": "25523a07",
   "metadata": {},
   "outputs": [],
   "source": [
    "lyrics_df.filter(col(\"lastfm_wiki_summary\").isNotNull()).select(\"musicbrainz_id\", \"lastfm_wiki_summary\").show(5)"
   ]
  },
  {
   "cell_type": "markdown",
   "id": "beeee474",
   "metadata": {},
   "source": [
    "## Tracks with available Last.fm wiki summary\n",
    "Filter tracks with a non-null wiki summary from Last.fm."
   ]
  },
  {
   "cell_type": "code",
   "execution_count": null,
   "id": "304ad018",
   "metadata": {},
   "outputs": [],
   "source": [
    "audio_features_df.filter(col(\"zero_crossing_rate\") > 0.1).select(\"musicbrainz_id\", \"zero_crossing_rate\").show(5)"
   ]
  }
 ],
 "metadata": {},
 "nbformat": 4,
 "nbformat_minor": 5
}
