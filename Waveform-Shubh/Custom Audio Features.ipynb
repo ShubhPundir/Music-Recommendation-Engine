{
 "cells": [
  {
   "cell_type": "code",
   "execution_count": 1,
   "id": "7c04e82f",
   "metadata": {
    "scrolled": true
   },
   "outputs": [
    {
     "name": "stdout",
     "output_type": "stream",
     "text": [
      "Collecting librosa\n",
      "  Downloading librosa-0.11.0-py3-none-any.whl (260 kB)\n",
      "                                              0.0/260.7 kB ? eta -:--:--\n",
      "     -------------------------------------- 260.7/260.7 kB 8.1 MB/s eta 0:00:00\n",
      "Collecting audioread>=2.1.9 (from librosa)\n",
      "  Downloading audioread-3.0.1-py3-none-any.whl (23 kB)\n",
      "Requirement already satisfied: numba>=0.51.0 in c:\\users\\robot\\anaconda3\\lib\\site-packages (from librosa) (0.57.0)\n",
      "Requirement already satisfied: numpy>=1.22.3 in c:\\users\\robot\\anaconda3\\lib\\site-packages (from librosa) (1.24.3)\n",
      "Requirement already satisfied: scipy>=1.6.0 in c:\\users\\robot\\anaconda3\\lib\\site-packages (from librosa) (1.10.1)\n",
      "Requirement already satisfied: scikit-learn>=1.1.0 in c:\\users\\robot\\anaconda3\\lib\\site-packages (from librosa) (1.2.2)\n",
      "Requirement already satisfied: joblib>=1.0 in c:\\users\\robot\\anaconda3\\lib\\site-packages (from librosa) (1.2.0)\n",
      "Requirement already satisfied: decorator>=4.3.0 in c:\\users\\robot\\anaconda3\\lib\\site-packages (from librosa) (5.1.1)\n",
      "Collecting soundfile>=0.12.1 (from librosa)\n",
      "  Downloading soundfile-0.13.1-py2.py3-none-win_amd64.whl (1.0 MB)\n",
      "                                              0.0/1.0 MB ? eta -:--:--\n",
      "     ---------------------------------------- 1.0/1.0 MB 32.5 MB/s eta 0:00:00\n",
      "Requirement already satisfied: pooch>=1.1 in c:\\users\\robot\\anaconda3\\lib\\site-packages (from librosa) (1.4.0)\n",
      "Collecting soxr>=0.3.2 (from librosa)\n",
      "  Downloading soxr-0.5.0.post1-cp311-cp311-win_amd64.whl (166 kB)\n",
      "                                              0.0/166.7 kB ? eta -:--:--\n",
      "     ---------------------------------------- 166.7/166.7 kB ? eta 0:00:00\n",
      "Requirement already satisfied: typing_extensions>=4.1.1 in c:\\users\\robot\\anaconda3\\lib\\site-packages (from librosa) (4.12.2)\n",
      "Requirement already satisfied: lazy_loader>=0.1 in c:\\users\\robot\\anaconda3\\lib\\site-packages (from librosa) (0.2)\n",
      "Requirement already satisfied: msgpack>=1.0 in c:\\users\\robot\\anaconda3\\lib\\site-packages (from librosa) (1.0.3)\n",
      "Requirement already satisfied: llvmlite<0.41,>=0.40.0dev0 in c:\\users\\robot\\anaconda3\\lib\\site-packages (from numba>=0.51.0->librosa) (0.40.0)\n",
      "Requirement already satisfied: requests in c:\\users\\robot\\anaconda3\\lib\\site-packages (from pooch>=1.1->librosa) (2.29.0)\n",
      "Requirement already satisfied: packaging in c:\\users\\robot\\anaconda3\\lib\\site-packages (from pooch>=1.1->librosa) (23.0)\n",
      "Requirement already satisfied: appdirs in c:\\users\\robot\\anaconda3\\lib\\site-packages (from pooch>=1.1->librosa) (1.4.4)\n",
      "Requirement already satisfied: threadpoolctl>=2.0.0 in c:\\users\\robot\\anaconda3\\lib\\site-packages (from scikit-learn>=1.1.0->librosa) (2.2.0)\n",
      "Requirement already satisfied: cffi>=1.0 in c:\\users\\robot\\anaconda3\\lib\\site-packages (from soundfile>=0.12.1->librosa) (1.15.1)\n",
      "Requirement already satisfied: pycparser in c:\\users\\robot\\anaconda3\\lib\\site-packages (from cffi>=1.0->soundfile>=0.12.1->librosa) (2.21)\n",
      "Requirement already satisfied: charset-normalizer<4,>=2 in c:\\users\\robot\\anaconda3\\lib\\site-packages (from requests->pooch>=1.1->librosa) (2.0.4)\n",
      "Requirement already satisfied: idna<4,>=2.5 in c:\\users\\robot\\anaconda3\\lib\\site-packages (from requests->pooch>=1.1->librosa) (3.4)\n",
      "Requirement already satisfied: urllib3<1.27,>=1.21.1 in c:\\users\\robot\\anaconda3\\lib\\site-packages (from requests->pooch>=1.1->librosa) (1.26.16)\n",
      "Requirement already satisfied: certifi>=2017.4.17 in c:\\users\\robot\\anaconda3\\lib\\site-packages (from requests->pooch>=1.1->librosa) (2023.5.7)\n",
      "Installing collected packages: soxr, audioread, soundfile, librosa\n",
      "Successfully installed audioread-3.0.1 librosa-0.11.0 soundfile-0.13.1 soxr-0.5.0.post1\n"
     ]
    },
    {
     "name": "stderr",
     "output_type": "stream",
     "text": [
      "WARNING: There was an error checking the latest version of pip.\n"
     ]
    }
   ],
   "source": [
    "!pip install librosa"
   ]
  },
  {
   "cell_type": "code",
   "execution_count": 2,
   "id": "779c37a2",
   "metadata": {},
   "outputs": [],
   "source": [
    "import librosa\n",
    "import numpy as np"
   ]
  },
  {
   "cell_type": "code",
   "execution_count": 3,
   "id": "c053c6bf",
   "metadata": {},
   "outputs": [],
   "source": [
    "def extract_all_audio_features(audio_path):\n",
    "    y, sr = librosa.load(audio_path, sr=None)\n",
    "\n",
    "    # Tempo and Beat\n",
    "    onset_env = librosa.onset.onset_strength(y=y, sr=sr)\n",
    "    tempo, beats = librosa.beat.beat_track(onset_envelope=onset_env, sr=sr)\n",
    "\n",
    "    # Energy\n",
    "    rms = librosa.feature.rms(y=y)\n",
    "    energy = np.mean(rms)\n",
    "\n",
    "    # Zero Crossing Rate (for Acousticness, Danceability)\n",
    "    zcr = librosa.feature.zero_crossing_rate(y)\n",
    "    zcr_mean = np.mean(zcr)\n",
    "\n",
    "    # Spectral Features\n",
    "    spectral_centroid = librosa.feature.spectral_centroid(y=y, sr=sr)\n",
    "    spectral_bandwidth = librosa.feature.spectral_bandwidth(y=y, sr=sr)\n",
    "    spectral_rolloff = librosa.feature.spectral_rolloff(y=y, sr=sr)\n",
    "\n",
    "    # MFCC\n",
    "    mfccs = librosa.feature.mfcc(y=y, sr=sr, n_mfcc=13)\n",
    "    mfccs_mean = np.mean(mfccs, axis=1)\n",
    "\n",
    "    # Chroma\n",
    "    chroma = librosa.feature.chroma_stft(y=y, sr=sr)\n",
    "    chroma_mean = np.mean(chroma, axis=1)\n",
    "\n",
    "    # Feature approximations\n",
    "    danceability = min(1.0, tempo / 200 + (1 - zcr_mean)) / 2\n",
    "    acousticness = 1 - zcr_mean\n",
    "    valence = np.mean(chroma_mean)\n",
    "    instrumentalness = 1 - np.mean(spectral_centroid) / (np.max(spectral_centroid) + 1e-6)\n",
    "    speechiness = np.mean(zcr)\n",
    "\n",
    "    return {\n",
    "        \"tempo\": float(tempo),\n",
    "        \"energy\": float(energy),\n",
    "        \"danceability\": float(danceability),\n",
    "        \"acousticness\": float(acousticness),\n",
    "        \"valence\": float(valence),\n",
    "        \"instrumentalness\": float(instrumentalness),\n",
    "        \"speechiness\": float(speechiness),\n",
    "        \"zcr_mean\": float(zcr_mean),\n",
    "        \"spectral_centroid\": float(np.mean(spectral_centroid)),\n",
    "        \"spectral_bandwidth\": float(np.mean(spectral_bandwidth)),\n",
    "        \"spectral_rolloff\": float(np.mean(spectral_rolloff)),\n",
    "        \"mfccs_mean\": mfccs_mean.tolist(),\n",
    "        \"chroma_mean\": chroma_mean.tolist(),\n",
    "    }\n"
   ]
  },
  {
   "cell_type": "code",
   "execution_count": 4,
   "id": "0e2b1e05",
   "metadata": {},
   "outputs": [
    {
     "name": "stderr",
     "output_type": "stream",
     "text": [
      "C:\\Users\\robot\\anaconda3\\Lib\\site-packages\\paramiko\\transport.py:219: CryptographyDeprecationWarning: Blowfish has been deprecated\n",
      "  \"class\": algorithms.Blowfish,\n"
     ]
    },
    {
     "data": {
      "text/plain": [
       "{'tempo': 102.27272727272727,\n",
       " 'energy': 0.22227999567985535,\n",
       " 'danceability': 0.5,\n",
       " 'acousticness': 0.9351751061410035,\n",
       " 'valence': 0.419386625289917,\n",
       " 'instrumentalness': 0.7891563798048146,\n",
       " 'speechiness': 0.06482489385899645,\n",
       " 'zcr_mean': 0.06482489385899645,\n",
       " 'spectral_centroid': 3254.024554556327,\n",
       " 'spectral_bandwidth': 3741.2585790992925,\n",
       " 'spectral_rolloff': 6853.425066572681,\n",
       " 'mfccs_mean': [-124.12195587158203,\n",
       "  133.31143188476562,\n",
       "  -15.86912727355957,\n",
       "  36.422176361083984,\n",
       "  -10.803810119628906,\n",
       "  23.340024948120117,\n",
       "  -7.594180583953857,\n",
       "  11.352689743041992,\n",
       "  -0.581663191318512,\n",
       "  -0.6595330834388733,\n",
       "  -6.25246000289917,\n",
       "  1.587208867073059,\n",
       "  0.06509604305028915],\n",
       " 'chroma_mean': [0.42346349358558655,\n",
       "  0.4400040805339813,\n",
       "  0.41401582956314087,\n",
       "  0.45718392729759216,\n",
       "  0.5416852235794067,\n",
       "  0.5843068361282349,\n",
       "  0.37975695729255676,\n",
       "  0.35351577401161194,\n",
       "  0.39304840564727783,\n",
       "  0.3431132733821869,\n",
       "  0.34801459312438965,\n",
       "  0.35453128814697266]}"
      ]
     },
     "execution_count": 4,
     "metadata": {},
     "output_type": "execute_result"
    }
   ],
   "source": [
    "extract_all_audio_features('Riptide.wav')"
   ]
  },
  {
   "cell_type": "code",
   "execution_count": null,
   "id": "b83a59a7",
   "metadata": {},
   "outputs": [],
   "source": []
  },
  {
   "cell_type": "code",
   "execution_count": null,
   "id": "c52fb318",
   "metadata": {},
   "outputs": [],
   "source": []
  },
  {
   "cell_type": "code",
   "execution_count": null,
   "id": "9008cfe5",
   "metadata": {},
   "outputs": [],
   "source": []
  }
 ],
 "metadata": {
  "kernelspec": {
   "display_name": "Python 3 (ipykernel)",
   "language": "python",
   "name": "python3"
  },
  "language_info": {
   "codemirror_mode": {
    "name": "ipython",
    "version": 3
   },
   "file_extension": ".py",
   "mimetype": "text/x-python",
   "name": "python",
   "nbconvert_exporter": "python",
   "pygments_lexer": "ipython3",
   "version": "3.11.3"
  }
 },
 "nbformat": 4,
 "nbformat_minor": 5
}
