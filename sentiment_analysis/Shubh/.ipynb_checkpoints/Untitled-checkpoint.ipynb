{
 "cells": [
  {
   "cell_type": "code",
   "execution_count": 1,
   "id": "099cca38",
   "metadata": {},
   "outputs": [
    {
     "name": "stdout",
     "output_type": "stream",
     "text": [
      "Requirement already satisfied: dotenv in c:\\users\\robot\\anaconda3\\lib\\site-packages (0.9.9)\n",
      "Requirement already satisfied: nltk in c:\\users\\robot\\anaconda3\\lib\\site-packages (3.7)\n",
      "Collecting textblob\n",
      "  Downloading textblob-0.19.0-py3-none-any.whl (624 kB)\n",
      "                                              0.0/624.3 kB ? eta -:--:--\n",
      "     ------------------------------------- 624.3/624.3 kB 19.8 MB/s eta 0:00:00\n",
      "Collecting vaderSentiment\n",
      "  Downloading vaderSentiment-3.3.2-py2.py3-none-any.whl (125 kB)\n",
      "                                              0.0/126.0 kB ? eta -:--:--\n",
      "     -------------------------------------- 126.0/126.0 kB 7.7 MB/s eta 0:00:00\n",
      "Requirement already satisfied: transformers in c:\\users\\robot\\anaconda3\\lib\\site-packages (2.1.1)\n",
      "Requirement already satisfied: python-dotenv in c:\\users\\robot\\anaconda3\\lib\\site-packages (from dotenv) (1.1.0)\n",
      "Requirement already satisfied: click in c:\\users\\robot\\anaconda3\\lib\\site-packages (from nltk) (8.0.4)\n",
      "Requirement already satisfied: joblib in c:\\users\\robot\\anaconda3\\lib\\site-packages (from nltk) (1.2.0)\n",
      "Requirement already satisfied: regex>=2021.8.3 in c:\\users\\robot\\anaconda3\\lib\\site-packages (from nltk) (2022.7.9)\n",
      "Requirement already satisfied: tqdm in c:\\users\\robot\\anaconda3\\lib\\site-packages (from nltk) (4.65.0)\n",
      "Collecting nltk\n",
      "  Downloading nltk-3.9.1-py3-none-any.whl (1.5 MB)\n",
      "                                              0.0/1.5 MB ? eta -:--:--\n",
      "     ---------------------------------------- 1.5/1.5 MB 99.7 MB/s eta 0:00:00\n",
      "Requirement already satisfied: requests in c:\\users\\robot\\anaconda3\\lib\\site-packages (from vaderSentiment) (2.29.0)\n",
      "Requirement already satisfied: numpy in c:\\users\\robot\\anaconda3\\lib\\site-packages (from transformers) (1.24.3)\n",
      "Requirement already satisfied: boto3 in c:\\users\\robot\\anaconda3\\lib\\site-packages (from transformers) (1.24.28)\n",
      "Requirement already satisfied: sentencepiece in c:\\users\\robot\\anaconda3\\lib\\site-packages (from transformers) (0.2.0)\n",
      "Requirement already satisfied: sacremoses in c:\\users\\robot\\anaconda3\\lib\\site-packages (from transformers) (0.0.43)\n",
      "Requirement already satisfied: botocore<1.28.0,>=1.27.28 in c:\\users\\robot\\anaconda3\\lib\\site-packages (from boto3->transformers) (1.27.59)\n",
      "Requirement already satisfied: jmespath<2.0.0,>=0.7.1 in c:\\users\\robot\\anaconda3\\lib\\site-packages (from boto3->transformers) (0.10.0)\n",
      "Requirement already satisfied: s3transfer<0.7.0,>=0.6.0 in c:\\users\\robot\\anaconda3\\lib\\site-packages (from boto3->transformers) (0.6.0)\n",
      "Requirement already satisfied: colorama in c:\\users\\robot\\anaconda3\\lib\\site-packages (from click->nltk) (0.4.6)\n",
      "Requirement already satisfied: charset-normalizer<4,>=2 in c:\\users\\robot\\anaconda3\\lib\\site-packages (from requests->vaderSentiment) (2.0.4)\n",
      "Requirement already satisfied: idna<4,>=2.5 in c:\\users\\robot\\anaconda3\\lib\\site-packages (from requests->vaderSentiment) (3.4)\n",
      "Requirement already satisfied: urllib3<1.27,>=1.21.1 in c:\\users\\robot\\anaconda3\\lib\\site-packages (from requests->vaderSentiment) (1.26.16)\n",
      "Requirement already satisfied: certifi>=2017.4.17 in c:\\users\\robot\\anaconda3\\lib\\site-packages (from requests->vaderSentiment) (2025.1.31)\n",
      "Requirement already satisfied: six in c:\\users\\robot\\anaconda3\\lib\\site-packages (from sacremoses->transformers) (1.16.0)\n",
      "Requirement already satisfied: python-dateutil<3.0.0,>=2.1 in c:\\users\\robot\\anaconda3\\lib\\site-packages (from botocore<1.28.0,>=1.27.28->boto3->transformers) (2.8.2)\n",
      "Installing collected packages: vaderSentiment, nltk, textblob\n",
      "  Attempting uninstall: nltk\n",
      "    Found existing installation: nltk 3.7\n",
      "    Uninstalling nltk-3.7:\n",
      "      Successfully uninstalled nltk-3.7\n",
      "Successfully installed nltk-3.9.1 textblob-0.19.0 vaderSentiment-3.3.2\n"
     ]
    },
    {
     "name": "stderr",
     "output_type": "stream",
     "text": [
      "WARNING: There was an error checking the latest version of pip.\n"
     ]
    }
   ],
   "source": [
    "!pip install dotenv nltk textblob vaderSentiment transformers"
   ]
  },
  {
   "cell_type": "code",
   "execution_count": null,
   "id": "555f3780",
   "metadata": {},
   "outputs": [],
   "source": [
    "!pip uninstall transformers"
   ]
  },
  {
   "cell_type": "code",
   "execution_count": null,
   "id": "d96731a2",
   "metadata": {},
   "outputs": [],
   "source": [
    "!pip install transformers"
   ]
  },
  {
   "cell_type": "code",
   "execution_count": null,
   "id": "b400a8ff",
   "metadata": {},
   "outputs": [],
   "source": [
    "import os\n",
    "from dotenv import load_dotenv\n",
    "import nltk\n",
    "from nltk.corpus import stopwords\n",
    "from nltk.tokenize import word_tokenize, sent_tokenize\n",
    "from textblob import TextBlob\n",
    "from vaderSentiment.vaderSentiment import SentimentIntensityAnalyzer\n",
    "from transformers import pipeline\n",
    "import string\n"
   ]
  },
  {
   "cell_type": "code",
   "execution_count": null,
   "id": "200c3e08",
   "metadata": {},
   "outputs": [],
   "source": [
    "\n",
    "# 🧠 NLP Setup\n",
    "nltk.download('punkt')\n",
    "nltk.download('stopwords')\n",
    "stop_words = set(stopwords.words('english'))\n",
    "vader = SentimentIntensityAnalyzer()\n",
    "bert = pipeline(\"sentiment-analysis\")\n"
   ]
  },
  {
   "cell_type": "code",
   "execution_count": 7,
   "id": "7b0197c3",
   "metadata": {},
   "outputs": [],
   "source": [
    "\n",
    "# 🔐 Load Genius API Token from .env file\n",
    "load_dotenv()\n",
    "GENIUS_ACCESS_TOKEN = os.getenv(\"GENIUS_ACCESS_TOKEN\")"
   ]
  },
  {
   "cell_type": "code",
   "execution_count": null,
   "id": "bafcbd3e",
   "metadata": {},
   "outputs": [],
   "source": [
    "!pip install pymongo"
   ]
  },
  {
   "cell_type": "code",
   "execution_count": null,
   "id": "1e10aaa8",
   "metadata": {},
   "outputs": [],
   "source": []
  },
  {
   "cell_type": "code",
   "execution_count": null,
   "id": "50d21dd4",
   "metadata": {},
   "outputs": [],
   "source": [
    "\n",
    "# 💬 Sentiment analysis using TextBlob, VADER, and BERT\n",
    "def analyze_sentiment(text):\n",
    "    result = {}\n",
    "    blob = TextBlob(text)\n",
    "    vader_score = vader.polarity_scores(text)\n",
    "    bert_score = bert(text[:512])[0]  # BERT has 512-token input limit\n",
    "\n",
    "    result[\"TextBlob\"] = {\n",
    "        \"Polarity\": round(blob.polarity, 3),\n",
    "        \"Subjectivity\": round(blob.subjectivity, 3)\n",
    "    }\n",
    "    result[\"VADER\"] = vader_score\n",
    "    result[\"BERT\"] = {\n",
    "        \"Label\": bert_score[\"label\"],\n",
    "        \"Score\": round(bert_score[\"score\"], 3)\n",
    "    }\n",
    "    return result\n",
    "\n",
    "# 🔎 Run Analysis\n",
    "def run():\n",
    "    # print(\"🎵 Enter Song Details\")\n",
    "    song = \"You really got a hold on me\"\n",
    "    artist = \"The Beatles\"\n",
    "\n",
    "    print(f\"\\n📥 Fetching lyrics for '{song}' by {artist}...\\n\")\n",
    "    lyrics = get_lyrics(song, artist)\n",
    "\n",
    "    if not lyrics:\n",
    "        print(\"❌ No lyrics found.\")\n",
    "        return\n",
    "\n",
    "    print(\"✅ Lyrics fetched!\")\n",
    "    print(\"-\" * 50)\n",
    "    print(\"\\nLyrics Preview:\\n\", \"\\n\".join(lyrics.split(\"\\n\")[:10]), \"\\n...\")\n",
    "\n",
    "    print(\"\\n🔍 Enter a word, sentence, or phrase to analyze:\")\n",
    "    query = input(\">>> \").strip()\n",
    "\n",
    "    print(\"\\n📊 Sentiment Analysis Results:\")\n",
    "    sentiment = analyze_sentiment(query)\n",
    "    for tool, scores in sentiment.items():\n",
    "        print(f\"\\n🔹 {tool} Result:\")\n",
    "        for k, v in scores.items():\n",
    "            print(f\"   {k}: {v}\")\n",
    "\n",
    "    # Optional: analyze full lyrics\n",
    "    analyze_full = input(\"\\n⚙️ Do you want to analyze the *full lyrics* as well? (y/n): \")\n",
    "    if analyze_full.lower().startswith(\"y\"):\n",
    "        full_sentiment = analyze_sentiment(lyrics)\n",
    "        print(\"\\n🎶 Full Lyrics Sentiment:\")\n",
    "        for tool, scores in full_sentiment.items():\n",
    "            print(f\"\\n🔹 {tool} Result:\")\n",
    "            for k, v in scores.items():\n",
    "                print(f\"   {k}: {v}\")\n",
    "\n",
    "if __name__ == \"__main__\":\n",
    "    run()\n"
   ]
  },
  {
   "cell_type": "code",
   "execution_count": null,
   "id": "800036c8",
   "metadata": {},
   "outputs": [],
   "source": []
  },
  {
   "cell_type": "code",
   "execution_count": null,
   "id": "367137ef",
   "metadata": {},
   "outputs": [],
   "source": []
  },
  {
   "cell_type": "code",
   "execution_count": null,
   "id": "946a3b01",
   "metadata": {},
   "outputs": [],
   "source": []
  },
  {
   "cell_type": "code",
   "execution_count": null,
   "id": "2c9e5024",
   "metadata": {},
   "outputs": [],
   "source": []
  }
 ],
 "metadata": {
  "kernelspec": {
   "display_name": "Python 3 (ipykernel)",
   "language": "python",
   "name": "python3"
  },
  "language_info": {
   "codemirror_mode": {
    "name": "ipython",
    "version": 3
   },
   "file_extension": ".py",
   "mimetype": "text/x-python",
   "name": "python",
   "nbconvert_exporter": "python",
   "pygments_lexer": "ipython3",
   "version": "3.11.3"
  }
 },
 "nbformat": 4,
 "nbformat_minor": 5
}
